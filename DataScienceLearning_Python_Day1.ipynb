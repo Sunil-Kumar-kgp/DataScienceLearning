{
 "cells": [
  {
   "cell_type": "markdown",
   "id": "644c6356-ede1-4321-a2f8-3fd9565aaa06",
   "metadata": {},
   "source": [
    "## Welcome to Python"
   ]
  },
  {
   "cell_type": "markdown",
   "id": "2ab9825c-05bf-43f8-a311-bb67decc0d56",
   "metadata": {},
   "source": [
    "a = 12"
   ]
  },
  {
   "cell_type": "code",
   "execution_count": 14,
   "id": "6e371877-c159-40fd-beda-386b90b5ba7f",
   "metadata": {},
   "outputs": [
    {
     "data": {
      "text/plain": [
       "12"
      ]
     },
     "execution_count": 14,
     "metadata": {},
     "output_type": "execute_result"
    }
   ],
   "source": [
    "a"
   ]
  },
  {
   "cell_type": "code",
   "execution_count": 15,
   "id": "3888b9e5-5ffc-4e71-aa04-393a33d8102b",
   "metadata": {},
   "outputs": [
    {
     "name": "stdout",
     "output_type": "stream",
     "text": [
      "12\n"
     ]
    }
   ],
   "source": [
    "print(a)"
   ]
  },
  {
   "cell_type": "markdown",
   "id": "6df09054-5af7-49f5-b529-5fa3dc7118e5",
   "metadata": {},
   "source": [
    "# If we want to give comments in the Jupyter Notebook, all we need to do is \n",
    "\n",
    "1. Go to any specific cell line\n",
    "2. Change the Drop Down Value from Code to MarkDown \n",
    "\n",
    "3. \"#\" and write text post this symbol eg: Heading \n",
    "4. \"##\" and write text post this symbol eg\" Sub Heading \n",
    "5. \"###\" Description\n",
    "6. \"1.\" Chapter 1\n",
    "7. \"2.\" Chapter 2\n",
    "7. 1. \"7.1.\" Paragraph 1 in Chapter 2\n",
    "7. 2. \"7.2.\" Paragraph 2 in Chapter 2"
   ]
  },
  {
   "cell_type": "markdown",
   "id": "40028c60-a839-4c3a-9f6e-638d83ad003b",
   "metadata": {},
   "source": [
    "# Example of the above Markdown Commenting \n",
    "\n",
    "# Write text post this symbol eg: Heading \n",
    "## Write text post this symbol eg\" Sub Heading \n",
    "### Description\n",
    "1. Chapter 1\n",
    "2. Chapter 2\n",
    "2. 1. Paragraph 1 in Chapter 2\n",
    "2. 2. Paragraph 2 in Chapter 2"
   ]
  },
  {
   "cell_type": "markdown",
   "id": "3409adb1-27d4-46b6-8367-4eac6752594e",
   "metadata": {},
   "source": [
    "### Print function simply displays the result"
   ]
  },
  {
   "cell_type": "markdown",
   "id": "6ff7f752-99ba-4a9b-a2a2-9e4f7543ab3e",
   "metadata": {},
   "source": [
    "## This symbol # and this ## acts like a comment"
   ]
  },
  {
   "cell_type": "code",
   "execution_count": 19,
   "id": "cbb0f046-94f5-4914-8a58-e30271a1cc90",
   "metadata": {},
   "outputs": [
    {
     "data": {
      "text/plain": [
       "5"
      ]
     },
     "execution_count": 19,
     "metadata": {},
     "output_type": "execute_result"
    }
   ],
   "source": [
    "# a = 3\n",
    "a = 5\n",
    "a"
   ]
  },
  {
   "cell_type": "code",
   "execution_count": 21,
   "id": "bb72525a-0dcb-4247-85a3-55bca8f93367",
   "metadata": {},
   "outputs": [
    {
     "data": {
      "text/plain": [
       "10"
      ]
     },
     "execution_count": 21,
     "metadata": {},
     "output_type": "execute_result"
    }
   ],
   "source": [
    "## b = 7 \n",
    "b = 10\n",
    "b"
   ]
  },
  {
   "cell_type": "markdown",
   "id": "769cdbf8-b40e-4107-bb7f-05e04a67b595",
   "metadata": {},
   "source": [
    "## Is there any shorcut to get the new cells/rows created in Jupyter Notebook?\n",
    "\n",
    "Yes, there is a simple shortcut to do that. i.e.\n",
    "\n",
    "1. Go to any specific cell\n",
    "2. Click on 'Esc' (Escape Key on the left top) on Keyboard\n",
    "3. Click on the 'a' Key on the keyboard\n",
    "4. You can add as many new cells in the Notebook"
   ]
  },
  {
   "cell_type": "markdown",
   "id": "5f0d2797-7ffd-4257-9e71-51d51d4933cb",
   "metadata": {},
   "source": [
    "## This symbol \"\"\" \"\"\" acts like a multi line comment"
   ]
  },
  {
   "cell_type": "code",
   "execution_count": 24,
   "id": "519fee1e-f9dc-456a-825e-8a8700c0e6b9",
   "metadata": {},
   "outputs": [
    {
     "name": "stdout",
     "output_type": "stream",
     "text": [
      "15\n"
     ]
    }
   ],
   "source": [
    "\"\"\" \n",
    "c = 5\n",
    "\"\"\"\n",
    "c = 15\n",
    "print(c)"
   ]
  },
  {
   "cell_type": "markdown",
   "id": "6421d33c-cb26-4506-b2f6-383d9ed379eb",
   "metadata": {},
   "source": [
    "## To get the explanation of a function like Print in Python\n",
    "\n",
    "use Shift + Tab Together\n"
   ]
  },
  {
   "cell_type": "code",
   "execution_count": 26,
   "id": "178ebc84-0f98-476e-86be-84c4103ee43f",
   "metadata": {},
   "outputs": [
    {
     "data": {
      "text/plain": [
       "\"\\nOn clicking Shift + Tab together after the Print Function - we get \\n\\nDocstring:\\nprint(value, ..., sep=' ', end='\\n', file=sys.stdout, flush=False)\\n\\nPrints the values to a stream, or to sys.stdout by default.\\nOptional keyword arguments:\\nfile:  a file-like object (stream); defaults to the current sys.stdout.\\nsep:   string inserted between values, default a space.\\nend:   string appended after the last value, default a newline.\\nflush: whether to forcibly flush the stream.\\nType:      builtin_function_or_method\\n\""
      ]
     },
     "execution_count": 26,
     "metadata": {},
     "output_type": "execute_result"
    }
   ],
   "source": [
    "\"\"\"\n",
    "On clicking Shift + Tab together after the Print Function - we get \n",
    "\n",
    "Docstring:\n",
    "print(value, ..., sep=' ', end='\\n', file=sys.stdout, flush=False)\n",
    "\n",
    "Prints the values to a stream, or to sys.stdout by default.\n",
    "Optional keyword arguments:\n",
    "file:  a file-like object (stream); defaults to the current sys.stdout.\n",
    "sep:   string inserted between values, default a space.\n",
    "end:   string appended after the last value, default a newline.\n",
    "flush: whether to forcibly flush the stream.\n",
    "Type:      builtin_function_or_method\n",
    "\"\"\""
   ]
  },
  {
   "cell_type": "markdown",
   "id": "71ed8fe5-6748-4274-b50a-bc4746686d3d",
   "metadata": {},
   "source": [
    "## How to display the text in multiple lines by typing in only one line\n",
    "\n",
    "simply take the help of above explanation of the print statement where it mentions end = '\\n'"
   ]
  },
  {
   "cell_type": "markdown",
   "id": "5ccae896-6fa0-401c-9875-8b71b0e7b40b",
   "metadata": {},
   "source": [
    "# without the \\n keyword in the print statement"
   ]
  },
  {
   "cell_type": "code",
   "execution_count": 27,
   "id": "dabc20db-ee55-4c88-8e6b-debad1b88653",
   "metadata": {},
   "outputs": [
    {
     "name": "stdout",
     "output_type": "stream",
     "text": [
      " I am Sunil Kumar and am Passionate about learning Data Science. Are you too?\n"
     ]
    }
   ],
   "source": [
    "print(\" I am Sunil Kumar and am Passionate about learning Data Science. Are you too?\")"
   ]
  },
  {
   "cell_type": "markdown",
   "id": "a8e02ff4-7b5b-4b11-8bac-b7b8845939d8",
   "metadata": {},
   "source": [
    "# with the \\n keyword in the print statement"
   ]
  },
  {
   "cell_type": "code",
   "execution_count": 28,
   "id": "4bdf13ef-37e7-4f1d-a348-eeb05bf1d261",
   "metadata": {},
   "outputs": [
    {
     "name": "stdout",
     "output_type": "stream",
     "text": [
      " I am Sunil Kumar and am Passionate about learning Data Science. \n",
      " Are you too?\n"
     ]
    }
   ],
   "source": [
    "print(\" I am Sunil Kumar and am Passionate about learning Data Science. \\n Are you too?\")"
   ]
  },
  {
   "cell_type": "markdown",
   "id": "56ff4e12-7d48-4a41-9745-23bc76e61cc7",
   "metadata": {},
   "source": [
    "# Variable Assignment\n",
    "\n",
    "1. If we use \"\" or '' quotes in both the cases the assignment that happens is string data type\n",
    "2. If we assign the value without using any string then the value stored is int type\n",
    "3. If we assign the value with a decimal then the value stored in a float data type"
   ]
  },
  {
   "cell_type": "code",
   "execution_count": 31,
   "id": "4278cef6-0ae1-49f8-93d4-668b32dc383e",
   "metadata": {},
   "outputs": [],
   "source": [
    "name_double_quotes = \"sunil\"\n",
    "name_single_quotes = 'sunil'\n",
    "number = 10"
   ]
  },
  {
   "cell_type": "code",
   "execution_count": 32,
   "id": "42196963-3530-45a6-80da-c87a26dee2b3",
   "metadata": {},
   "outputs": [
    {
     "data": {
      "text/plain": [
       "'sunil'"
      ]
     },
     "execution_count": 32,
     "metadata": {},
     "output_type": "execute_result"
    }
   ],
   "source": [
    "name_double_quotes"
   ]
  },
  {
   "cell_type": "code",
   "execution_count": 33,
   "id": "e25ffbd2-cfa5-4059-8d72-192e0d879aad",
   "metadata": {},
   "outputs": [
    {
     "data": {
      "text/plain": [
       "'sunil'"
      ]
     },
     "execution_count": 33,
     "metadata": {},
     "output_type": "execute_result"
    }
   ],
   "source": [
    "name_single_quotes"
   ]
  },
  {
   "cell_type": "code",
   "execution_count": 34,
   "id": "153a71fe-bdee-4578-aa71-3decdd70cb8e",
   "metadata": {},
   "outputs": [
    {
     "data": {
      "text/plain": [
       "10"
      ]
     },
     "execution_count": 34,
     "metadata": {},
     "output_type": "execute_result"
    }
   ],
   "source": [
    "number"
   ]
  },
  {
   "cell_type": "markdown",
   "id": "40101c55-8c2f-4dc6-98ba-8bec7505a192",
   "metadata": {},
   "source": [
    "## To check the data type of the Variable being used\n",
    "\n",
    "We use the function type(variable name)"
   ]
  },
  {
   "cell_type": "code",
   "execution_count": 35,
   "id": "0fdacfaf-ea2c-440e-a1e1-5c1261e42124",
   "metadata": {},
   "outputs": [
    {
     "data": {
      "text/plain": [
       "str"
      ]
     },
     "execution_count": 35,
     "metadata": {},
     "output_type": "execute_result"
    }
   ],
   "source": [
    "type(name_double_quotes)\n"
   ]
  },
  {
   "cell_type": "code",
   "execution_count": 36,
   "id": "79423e9a-d7c6-436c-8f3d-f54a923f97cd",
   "metadata": {},
   "outputs": [
    {
     "data": {
      "text/plain": [
       "str"
      ]
     },
     "execution_count": 36,
     "metadata": {},
     "output_type": "execute_result"
    }
   ],
   "source": [
    "type(name_single_quotes)"
   ]
  },
  {
   "cell_type": "code",
   "execution_count": 37,
   "id": "eeebbb0e-8209-47d0-b473-f5f6261b3b04",
   "metadata": {},
   "outputs": [
    {
     "data": {
      "text/plain": [
       "int"
      ]
     },
     "execution_count": 37,
     "metadata": {},
     "output_type": "execute_result"
    }
   ],
   "source": [
    "type(number)"
   ]
  },
  {
   "cell_type": "code",
   "execution_count": 1,
   "id": "9dc872f3-dfb2-45ac-b77b-41c80c0e354d",
   "metadata": {},
   "outputs": [
    {
     "data": {
      "text/plain": [
       "str"
      ]
     },
     "execution_count": 1,
     "metadata": {},
     "output_type": "execute_result"
    }
   ],
   "source": [
    "type(\"sunil\")"
   ]
  },
  {
   "cell_type": "code",
   "execution_count": 2,
   "id": "efa4a605-b946-46cb-8a22-66aaac5f1bc5",
   "metadata": {},
   "outputs": [
    {
     "data": {
      "text/plain": [
       "int"
      ]
     },
     "execution_count": 2,
     "metadata": {},
     "output_type": "execute_result"
    }
   ],
   "source": [
    "type(1)\n"
   ]
  },
  {
   "cell_type": "code",
   "execution_count": null,
   "id": "916b5c54-4f6c-42f4-92f9-dca8b4bad537",
   "metadata": {},
   "outputs": [
    {
     "data": {
      "text/plain": [
       "float"
      ]
     },
     "execution_count": 3,
     "metadata": {},
     "output_type": "execute_result"
    }
   ],
   "source": [
    "type(1.2)"
   ]
  },
  {
   "cell_type": "code",
   "execution_count": 6,
   "id": "7864089a-ddf2-4ddf-a998-67d50f90cdf7",
   "metadata": {},
   "outputs": [
    {
     "data": {
      "text/plain": [
       "float"
      ]
     },
     "execution_count": 6,
     "metadata": {},
     "output_type": "execute_result"
    }
   ],
   "source": [
    "type(100.0)"
   ]
  },
  {
   "cell_type": "markdown",
   "id": "e4fec154-ad87-45c3-8935-37ddc5bdc585",
   "metadata": {},
   "source": [
    "## Few things to remember\n",
    "1. If a specific variable is already assigned before as number = 10 \n",
    "and we can simply type n and press TAB key to get the number word in the cell we are working with\n",
    "\n",
    "2. Python is case sensitive \n",
    "eg: Animal = \"tiger\" and ANIMAL = \"goat\" display different results when printed\n",
    "\n",
    "3. Avoid using the variable names starting with a number \n",
    "eg: 1animal, 2animal instead use animal1, animal2\n",
    "\n",
    "4. Print Keyword should have starting letter p small and not capital as it throws error when capital letter is used \n",
    "---------------------------------------------------------------------------\n",
    "NameError                                 Traceback (most recent call last)\n",
    "Cell In[11], line 5\n",
    "      3 print(Animal)\n",
    "      4 print(ANIMAL)\n",
    "----> 5 Print(Animal)\n",
    "\n",
    "NameError: name 'Print' is not defined\n"
   ]
  },
  {
   "cell_type": "code",
   "execution_count": null,
   "id": "7162a5db-7867-43be-9470-4d33586ca1ce",
   "metadata": {},
   "outputs": [],
   "source": [
    "Animal = \"tiger\" \n",
    "ANIMAL = \"goat\"\n",
    "print(Animal)\n",
    "print(ANIMAL)\n",
    "Print(Animal)"
   ]
  },
  {
   "cell_type": "markdown",
   "id": "8ad067b1-411f-46c0-909c-2a22435bd64d",
   "metadata": {},
   "source": [
    "## Reserved Keywords like should never be used as variable names\n",
    "print, int, float, bool, len, return, yield, str\n",
    "\n",
    "eg: float = 32 etc"
   ]
  },
  {
   "cell_type": "markdown",
   "id": "37d87401-16af-4149-bfde-58afc672e44b",
   "metadata": {},
   "source": [
    "## Boolean Value Operations - True and False"
   ]
  },
  {
   "cell_type": "code",
   "execution_count": 13,
   "id": "54fea8e9-09f3-437d-98b1-a1e471844391",
   "metadata": {},
   "outputs": [
    {
     "data": {
      "text/plain": [
       "True"
      ]
     },
     "execution_count": 13,
     "metadata": {},
     "output_type": "execute_result"
    }
   ],
   "source": [
    "True"
   ]
  },
  {
   "cell_type": "code",
   "execution_count": 14,
   "id": "3dd83478-ecc8-4d6a-836d-66dce9026723",
   "metadata": {},
   "outputs": [
    {
     "data": {
      "text/plain": [
       "False"
      ]
     },
     "execution_count": 14,
     "metadata": {},
     "output_type": "execute_result"
    }
   ],
   "source": [
    "False"
   ]
  },
  {
   "cell_type": "code",
   "execution_count": 15,
   "id": "9e85158b-d8d9-4ad5-9cdf-d799f80b2543",
   "metadata": {},
   "outputs": [
    {
     "data": {
      "text/plain": [
       "True"
      ]
     },
     "execution_count": 15,
     "metadata": {},
     "output_type": "execute_result"
    }
   ],
   "source": [
    "True or False"
   ]
  },
  {
   "cell_type": "code",
   "execution_count": 16,
   "id": "cf0bd151-7b58-498b-afa4-bd2b375bfc9c",
   "metadata": {},
   "outputs": [
    {
     "data": {
      "text/plain": [
       "False"
      ]
     },
     "execution_count": 16,
     "metadata": {},
     "output_type": "execute_result"
    }
   ],
   "source": [
    "True and False"
   ]
  },
  {
   "cell_type": "code",
   "execution_count": 17,
   "id": "7052230b-20aa-4b29-bd7a-710a9673588b",
   "metadata": {},
   "outputs": [
    {
     "data": {
      "text/plain": [
       "False"
      ]
     },
     "execution_count": 17,
     "metadata": {},
     "output_type": "execute_result"
    }
   ],
   "source": [
    "not True"
   ]
  },
  {
   "cell_type": "code",
   "execution_count": 18,
   "id": "373fd5f2-3658-4201-bb91-7819fffa0034",
   "metadata": {},
   "outputs": [
    {
     "data": {
      "text/plain": [
       "True"
      ]
     },
     "execution_count": 18,
     "metadata": {},
     "output_type": "execute_result"
    }
   ],
   "source": [
    "not False"
   ]
  },
  {
   "cell_type": "code",
   "execution_count": 19,
   "id": "11628136-2cf4-4d78-9f6c-a1b6f38dc9e6",
   "metadata": {},
   "outputs": [
    {
     "data": {
      "text/plain": [
       "bool"
      ]
     },
     "execution_count": 19,
     "metadata": {},
     "output_type": "execute_result"
    }
   ],
   "source": [
    "type(True)"
   ]
  },
  {
   "cell_type": "code",
   "execution_count": 20,
   "id": "b738d926-a628-48b4-b2f5-2190e16a660e",
   "metadata": {},
   "outputs": [
    {
     "data": {
      "text/plain": [
       "bool"
      ]
     },
     "execution_count": 20,
     "metadata": {},
     "output_type": "execute_result"
    }
   ],
   "source": [
    "type(False)"
   ]
  },
  {
   "cell_type": "code",
   "execution_count": 21,
   "id": "811b4d09-e29f-44bf-a27f-5fcfab7d49c5",
   "metadata": {},
   "outputs": [
    {
     "data": {
      "text/plain": [
       "bool"
      ]
     },
     "execution_count": 21,
     "metadata": {},
     "output_type": "execute_result"
    }
   ],
   "source": [
    "type(not True)"
   ]
  },
  {
   "cell_type": "code",
   "execution_count": 22,
   "id": "221cf5e8-298f-449e-95f0-341d8e3aa84b",
   "metadata": {},
   "outputs": [
    {
     "data": {
      "text/plain": [
       "False"
      ]
     },
     "execution_count": 22,
     "metadata": {},
     "output_type": "execute_result"
    }
   ],
   "source": [
    "bool(0)"
   ]
  },
  {
   "cell_type": "code",
   "execution_count": 23,
   "id": "1c1f850e-13c5-44f7-814d-ccfde481707c",
   "metadata": {},
   "outputs": [
    {
     "data": {
      "text/plain": [
       "True"
      ]
     },
     "execution_count": 23,
     "metadata": {},
     "output_type": "execute_result"
    }
   ],
   "source": [
    "bool(1)"
   ]
  },
  {
   "cell_type": "markdown",
   "id": "b20d4308-ff4e-406b-b233-dfdf3b354bf9",
   "metadata": {},
   "source": [
    "## We can use these Boolean conditons in if statement in python\n"
   ]
  },
  {
   "cell_type": "code",
   "execution_count": 26,
   "id": "fe22053a-1e11-4a87-b78a-a65dcdab552a",
   "metadata": {},
   "outputs": [
    {
     "name": "stdout",
     "output_type": "stream",
     "text": [
      "x is True Boolean\n"
     ]
    }
   ],
   "source": [
    "\n",
    "x = 1\n",
    "if bool(x) == True:\n",
    "    print(\"x is True Boolean\")"
   ]
  },
  {
   "cell_type": "markdown",
   "id": "3113f5a8-632c-4503-a6bd-7996023b2c3f",
   "metadata": {},
   "source": [
    "## Typecasting - Changing from one variable type to another variable type"
   ]
  },
  {
   "cell_type": "code",
   "execution_count": 36,
   "id": "4b441879-06f5-4d79-9642-221daeb013cc",
   "metadata": {},
   "outputs": [
    {
     "name": "stdout",
     "output_type": "stream",
     "text": [
      "a is  True \n",
      " b is  False \n",
      " c is  1 \n",
      " d is  0 \n",
      "\n"
     ]
    }
   ],
   "source": [
    "# Eg integer to boolean\n",
    "\n",
    "a = bool(1)\n",
    "b = bool(0)\n",
    "c = int(True)\n",
    "d = int(False)\n",
    "\n",
    "print(\"a is \", a ,\"\\n\", \"b is \", b ,\"\\n\",\"c is \", c ,\"\\n\",\"d is \", d ,\"\\n\")\n",
    "      \n",
    "      #,\"\\n b is \" b , \"\\n c is \" c,\"\\n d is \" d)\n",
    "\n"
   ]
  },
  {
   "cell_type": "code",
   "execution_count": 42,
   "id": "ec22e40b-dc54-4be4-8896-b6860a76ce9d",
   "metadata": {},
   "outputs": [
    {
     "data": {
      "text/plain": [
       "'25'"
      ]
     },
     "execution_count": 42,
     "metadata": {},
     "output_type": "execute_result"
    }
   ],
   "source": [
    "## Number into string\n",
    "no_as_string = str(25)\n",
    "no_as_string\n"
   ]
  },
  {
   "cell_type": "markdown",
   "id": "256fc064-2346-467f-ae6c-4d1afde450fb",
   "metadata": {},
   "source": [
    "## print function returns the string \n",
    "\n",
    "print just shows the human user a string representing what is going on inside the computer. The computer cannot make use of that printing. return is how a function gives back a value. This value is often unseen by the human user, but it can be used by the computer in further functions."
   ]
  },
  {
   "cell_type": "code",
   "execution_count": 44,
   "id": "f65db878-91b9-4f6e-b3d9-fb4660ef7363",
   "metadata": {},
   "outputs": [
    {
     "name": "stdout",
     "output_type": "stream",
     "text": [
      "25\n"
     ]
    }
   ],
   "source": [
    "## Number into string - being displayed by print function\n",
    "no_as_string = str(25)\n",
    "print(no_as_string)"
   ]
  },
  {
   "cell_type": "code",
   "execution_count": 48,
   "id": "2a69e54d-f113-4ab1-afca-20c8dfafc732",
   "metadata": {},
   "outputs": [
    {
     "data": {
      "text/plain": [
       "25"
      ]
     },
     "execution_count": 48,
     "metadata": {},
     "output_type": "execute_result"
    }
   ],
   "source": [
    "## string to int\n",
    "\n",
    "b= int('25')\n",
    "b"
   ]
  },
  {
   "cell_type": "code",
   "execution_count": 47,
   "id": "5cafaebc-e342-4deb-b1e1-2342b09ddf2e",
   "metadata": {},
   "outputs": [
    {
     "data": {
      "text/plain": [
       "int"
      ]
     },
     "execution_count": 47,
     "metadata": {},
     "output_type": "execute_result"
    }
   ],
   "source": [
    "type(b)"
   ]
  },
  {
   "cell_type": "markdown",
   "id": "bee369cf-96cf-4045-b271-b5b8a4081b45",
   "metadata": {},
   "source": [
    "## Dynamic Typing\n",
    "In python there is not need to define the type of the variable before storing the value \n",
    "as we do in C or Java, where we need to define int a, b, c or char x,y,z\n",
    "\n",
    "In python it happens in run time directly and the interpreter understands it directly\n"
   ]
  },
  {
   "cell_type": "code",
   "execution_count": 49,
   "id": "23a1ab87-b1dd-4120-b66c-1ae0b55a3e6a",
   "metadata": {},
   "outputs": [
    {
     "data": {
      "text/plain": [
       "int"
      ]
     },
     "execution_count": 49,
     "metadata": {},
     "output_type": "execute_result"
    }
   ],
   "source": [
    "# Variable a is storing a number and so its type is integer\n",
    "a = 5\n",
    "type(a)"
   ]
  },
  {
   "cell_type": "code",
   "execution_count": 50,
   "id": "0f3e97ac-0807-4330-8932-7ba31a4f3cf4",
   "metadata": {},
   "outputs": [
    {
     "data": {
      "text/plain": [
       "str"
      ]
     },
     "execution_count": 50,
     "metadata": {},
     "output_type": "execute_result"
    }
   ],
   "source": [
    "# Variable b is storing a string and so its type is string\n",
    "b = \"Do you have a mentor in Life?\"\n",
    "type(b)"
   ]
  },
  {
   "cell_type": "code",
   "execution_count": 55,
   "id": "0cf34879-a4b0-44cd-8bbb-c3a4272b30b8",
   "metadata": {},
   "outputs": [
    {
     "name": "stdout",
     "output_type": "stream",
     "text": [
      "<class 'str'>\n"
     ]
    }
   ],
   "source": [
    "#If we assign a different type of data in the same earlier variable,\n",
    "#the data type of the variable also changes - Let's add a string value to a\n",
    "a = \"I have a mentor to guide me in Life\"\n",
    "print(type(a))"
   ]
  },
  {
   "cell_type": "code",
   "execution_count": 57,
   "id": "581b273e-13be-4d08-b810-a753e6d08856",
   "metadata": {},
   "outputs": [
    {
     "data": {
      "text/plain": [
       "1"
      ]
     },
     "execution_count": 57,
     "metadata": {},
     "output_type": "execute_result"
    }
   ],
   "source": [
    "int(1.25)"
   ]
  },
  {
   "cell_type": "code",
   "execution_count": 58,
   "id": "87beb9a1-e0ed-4b12-b2e2-0d695d5074cb",
   "metadata": {},
   "outputs": [
    {
     "data": {
      "text/plain": [
       "1.0"
      ]
     },
     "execution_count": 58,
     "metadata": {},
     "output_type": "execute_result"
    }
   ],
   "source": [
    "float(1)"
   ]
  },
  {
   "cell_type": "markdown",
   "id": "d59e2853-4444-4a94-98f4-4f742a5f0db0",
   "metadata": {},
   "source": [
    "## Concatenation between different data types"
   ]
  },
  {
   "cell_type": "code",
   "execution_count": 59,
   "id": "e0b6114e-0758-4c6b-a9c0-cb368502e39d",
   "metadata": {},
   "outputs": [
    {
     "data": {
      "text/plain": [
       "'I ama Happy Person'"
      ]
     },
     "execution_count": 59,
     "metadata": {},
     "output_type": "execute_result"
    }
   ],
   "source": [
    "# Adding two strings will combine them\n",
    "\"I am\" + \"a Happy Person\""
   ]
  },
  {
   "cell_type": "code",
   "execution_count": 61,
   "id": "35f01b4b-0c24-4747-b4fe-cab5d8100272",
   "metadata": {},
   "outputs": [
    {
     "data": {
      "text/plain": [
       "4"
      ]
     },
     "execution_count": 61,
     "metadata": {},
     "output_type": "execute_result"
    }
   ],
   "source": [
    "# Adding two numers will add them\n",
    "1 + 3"
   ]
  },
  {
   "cell_type": "code",
   "execution_count": 62,
   "id": "158c2df8-1e7c-4737-9eff-ed5bc816580f",
   "metadata": {},
   "outputs": [
    {
     "data": {
      "text/plain": [
       "'3333333333'"
      ]
     },
     "execution_count": 62,
     "metadata": {},
     "output_type": "execute_result"
    }
   ],
   "source": [
    "# Multiplying a string a number will give repeated values\n",
    "\"3\" * 10"
   ]
  },
  {
   "cell_type": "code",
   "execution_count": 63,
   "id": "e1a0eeff-5aa4-47dd-847e-183627b4a3e0",
   "metadata": {},
   "outputs": [
    {
     "data": {
      "text/plain": [
       "30"
      ]
     },
     "execution_count": 63,
     "metadata": {},
     "output_type": "execute_result"
    }
   ],
   "source": [
    "# Multiplying a number a number will give product value\n",
    "3 * 10"
   ]
  },
  {
   "cell_type": "code",
   "execution_count": 64,
   "id": "326c4b12-4627-46d9-8784-76da3798b16c",
   "metadata": {},
   "outputs": [
    {
     "data": {
      "text/plain": [
       "'intintintintintintintintintint'"
      ]
     },
     "execution_count": 64,
     "metadata": {},
     "output_type": "execute_result"
    }
   ],
   "source": [
    "# Multiplying a string a number will give repeated values\n",
    "10 * \"int\""
   ]
  },
  {
   "cell_type": "code",
   "execution_count": 65,
   "id": "54f44cff-f0bb-4e2f-bdd7-fd13f4c33e09",
   "metadata": {},
   "outputs": [
    {
     "ename": "TypeError",
     "evalue": "can only concatenate str (not \"int\") to str",
     "output_type": "error",
     "traceback": [
      "\u001b[0;31m---------------------------------------------------------------------------\u001b[0m",
      "\u001b[0;31mTypeError\u001b[0m                                 Traceback (most recent call last)",
      "Cell \u001b[0;32mIn[65], line 2\u001b[0m\n\u001b[1;32m      1\u001b[0m \u001b[38;5;66;03m# Adding a string with int will throw an error\u001b[39;00m\n\u001b[0;32m----> 2\u001b[0m \u001b[38;5;124;43m\"\u001b[39;49m\u001b[38;5;124;43ma\u001b[39;49m\u001b[38;5;124;43m\"\u001b[39;49m\u001b[43m \u001b[49m\u001b[38;5;241;43m+\u001b[39;49m\u001b[43m  \u001b[49m\u001b[38;5;241;43m1\u001b[39;49m\n",
      "\u001b[0;31mTypeError\u001b[0m: can only concatenate str (not \"int\") to str"
     ]
    }
   ],
   "source": [
    "# Adding a string with int will throw an error\n",
    "\"a\" +  1"
   ]
  },
  {
   "cell_type": "code",
   "execution_count": 66,
   "id": "c4328c98-735b-4a25-a319-14df0a65663e",
   "metadata": {},
   "outputs": [
    {
     "ename": "TypeError",
     "evalue": "can't multiply sequence by non-int of type 'str'",
     "output_type": "error",
     "traceback": [
      "\u001b[0;31m---------------------------------------------------------------------------\u001b[0m",
      "\u001b[0;31mTypeError\u001b[0m                                 Traceback (most recent call last)",
      "Cell \u001b[0;32mIn[66], line 2\u001b[0m\n\u001b[1;32m      1\u001b[0m \u001b[38;5;66;03m# We cannot multipy two strings as we need atleast one integer in both\u001b[39;00m\n\u001b[0;32m----> 2\u001b[0m \u001b[38;5;124;43m\"\u001b[39;49m\u001b[38;5;124;43ma\u001b[39;49m\u001b[38;5;124;43m\"\u001b[39;49m\u001b[43m \u001b[49m\u001b[38;5;241;43m*\u001b[39;49m\u001b[43m \u001b[49m\u001b[38;5;124;43m\"\u001b[39;49m\u001b[38;5;124;43m1\u001b[39;49m\u001b[38;5;124;43m\"\u001b[39;49m\n",
      "\u001b[0;31mTypeError\u001b[0m: can't multiply sequence by non-int of type 'str'"
     ]
    }
   ],
   "source": [
    "# We cannot multipy two strings as we need atleast one integer in both\n",
    "\"a\" * \"1\""
   ]
  },
  {
   "cell_type": "code",
   "execution_count": 67,
   "id": "b9576eb1-5214-4c2f-92b2-538a020389c3",
   "metadata": {},
   "outputs": [
    {
     "data": {
      "text/plain": [
       "'222222'"
      ]
     },
     "execution_count": 67,
     "metadata": {},
     "output_type": "execute_result"
    }
   ],
   "source": [
    "# We can multiply a string with a type casted string\n",
    "\"2\" * int(\"6\")"
   ]
  },
  {
   "cell_type": "code",
   "execution_count": 69,
   "id": "aa1859e1-f755-4b5f-a08d-ad9035004cdf",
   "metadata": {},
   "outputs": [
    {
     "name": "stdout",
     "output_type": "stream",
     "text": [
      "False True True True\n"
     ]
    }
   ],
   "source": [
    "## boolean value for any value other than 0 gives True\n",
    "print(bool(0),\n",
    "bool(1),\n",
    "bool(2),\n",
    "bool(-1))"
   ]
  },
  {
   "cell_type": "code",
   "execution_count": 70,
   "id": "db221537-f920-4e62-af35-f1d7836750aa",
   "metadata": {},
   "outputs": [
    {
     "data": {
      "text/plain": [
       "bool"
      ]
     },
     "execution_count": 70,
     "metadata": {},
     "output_type": "execute_result"
    }
   ],
   "source": [
    "type(bool(-1))"
   ]
  },
  {
   "cell_type": "code",
   "execution_count": null,
   "id": "77f59c32-71e9-4696-baa5-207da5932b02",
   "metadata": {},
   "outputs": [],
   "source": []
  },
  {
   "cell_type": "code",
   "execution_count": null,
   "id": "4d01ad15-96e5-41b0-9dd2-3fb149acea4d",
   "metadata": {},
   "outputs": [],
   "source": []
  },
  {
   "cell_type": "code",
   "execution_count": null,
   "id": "e19b1db4-f4bc-4551-b680-8d5090d170c1",
   "metadata": {},
   "outputs": [],
   "source": []
  },
  {
   "cell_type": "code",
   "execution_count": null,
   "id": "f4bdad5c-864c-4385-8f79-c928353e8a9e",
   "metadata": {},
   "outputs": [],
   "source": []
  },
  {
   "cell_type": "code",
   "execution_count": null,
   "id": "e7cbbea9-226b-4b8f-a3c2-31e694f2d204",
   "metadata": {},
   "outputs": [],
   "source": []
  },
  {
   "cell_type": "code",
   "execution_count": null,
   "id": "bfa83a84-c409-4939-87c2-fc729a48c15e",
   "metadata": {},
   "outputs": [],
   "source": []
  },
  {
   "cell_type": "code",
   "execution_count": 5,
   "id": "5a169627-dfba-4c76-8dcd-2c059e02c13a",
   "metadata": {},
   "outputs": [
    {
     "data": {
      "text/plain": [
       "int"
      ]
     },
     "execution_count": 5,
     "metadata": {},
     "output_type": "execute_result"
    }
   ],
   "source": [
    "aaa"
   ]
  }
 ],
 "metadata": {
  "kernelspec": {
   "display_name": "Python 3 (ipykernel)",
   "language": "python",
   "name": "python3"
  },
  "language_info": {
   "codemirror_mode": {
    "name": "ipython",
    "version": 3
   },
   "file_extension": ".py",
   "mimetype": "text/x-python",
   "name": "python",
   "nbconvert_exporter": "python",
   "pygments_lexer": "ipython3",
   "version": "3.10.8"
  }
 },
 "nbformat": 4,
 "nbformat_minor": 5
}
